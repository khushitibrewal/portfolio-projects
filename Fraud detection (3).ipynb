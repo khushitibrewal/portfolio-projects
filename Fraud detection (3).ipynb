{
 "cells": [
  {
   "cell_type": "markdown",
   "id": "0ec7f5cb",
   "metadata": {},
   "source": [
    "## Import required functions"
   ]
  },
  {
   "cell_type": "code",
   "execution_count": 1,
   "id": "5860027f",
   "metadata": {},
   "outputs": [],
   "source": [
    "import joblib\n",
    "import warnings\n",
    "import inflection\n",
    "\n",
    "import numpy             as np\n",
    "import pandas            as pd\n",
    "import seaborn           as sns\n",
    "\n",
    "import matplotlib.pyplot as plt\n",
    "\n",
    "from scipy   import stats\n",
    "from xgboost  import XGBClassifier\n",
    "\n",
    "\n",
    "from sklearn.svm          import SVC\n",
    "from sklearn.dummy        import DummyClassifier\n",
    "from sklearn.ensemble     import RandomForestClassifier\n",
    "from sklearn.neighbors    import KNeighborsClassifier\n",
    "from sklearn.linear_model import LogisticRegression\n",
    "\n",
    "from sklearn.metrics         import balanced_accuracy_score, precision_score, classification_report\n",
    "from sklearn.metrics         import recall_score, f1_score, make_scorer, cohen_kappa_score\n",
    "from sklearn.preprocessing   import MinMaxScaler\n",
    "from sklearn.model_selection import GridSearchCV, train_test_split, StratifiedKFold"
   ]
  },
  {
   "cell_type": "markdown",
   "id": "808c74f9",
   "metadata": {},
   "source": [
    "## Helper functions"
   ]
  },
  {
   "cell_type": "code",
   "execution_count": 2,
   "id": "ae30bb09",
   "metadata": {},
   "outputs": [],
   "source": [
    "def ml_scores(model_name, y_true, y_pred):\n",
    "    \n",
    "    accuracy = balanced_accuracy_score(y_true, y_pred)\n",
    "    precision = precision_score(y_true, y_pred)\n",
    "    recall = recall_score(y_true, y_pred)\n",
    "    f1 = f1_score(y_true, y_pred)\n",
    "    kappa = cohen_kappa_score(y_true, y_pred)\n",
    "    \n",
    "    return pd.DataFrame({'Balanced Accuracy': np.round(accuracy, 3), \n",
    "                         'Precision': np.round(precision, 3), \n",
    "                         'Recall': np.round(recall, 3),\n",
    "                         'F1': np.round(f1, 3),\n",
    "                         'Kappa': np.round(kappa, 3)}, \n",
    "                        index=[model_name])"
   ]
  },
  {
   "cell_type": "code",
   "execution_count": 3,
   "id": "e8a4c2d4",
   "metadata": {},
   "outputs": [],
   "source": [
    "def ml_cv_results(model_name, model, x, y, verbose=1):\n",
    "    \n",
    "    '''initial'''\n",
    "    balanced_accuracies = []\n",
    "    precisions = []\n",
    "    recalls = []\n",
    "    f1s = []\n",
    "    kappas = []\n",
    "    \n",
    "    mm = MinMaxScaler()\n",
    "    \n",
    "    x_ = x.to_numpy()\n",
    "    y_ = y.to_numpy()\n",
    "    \n",
    "    count = 0\n",
    "    \n",
    "    '''cross-validation'''\n",
    "    skf = StratifiedKFold(n_splits=5, shuffle=True)\n",
    "    \n",
    "    for index_train, index_test in skf.split(x_, y_):\n",
    "        ## Showing the Fold\n",
    "        if verbose > 0:\n",
    "            count += 1\n",
    "            print('Fold K=%i' % (count))\n",
    "            \n",
    "        ## selecting train and test\n",
    "        x_train, x_test = x.iloc[index_train], x.iloc[index_test]\n",
    "        y_train, y_test = y.iloc[index_train], y.iloc[index_test]\n",
    "        \n",
    "        ## applying the scale\n",
    "        x_train = mm.fit_transform(x_train)\n",
    "        x_test = mm.transform(x_test)\n",
    "    \n",
    "        ## training the model\n",
    "        model.fit(x_train, y_train)\n",
    "        y_pred = model.predict(x_test)\n",
    "\n",
    "        ## saving the metrics\n",
    "        balanced_accuracies.append(balanced_accuracy_score(y_test, y_pred))\n",
    "        precisions.append(precision_score(y_test, y_pred))\n",
    "        recalls.append(recall_score(y_test, y_pred))\n",
    "        f1s.append(f1_score(y_test, y_pred))\n",
    "        kappas.append(cohen_kappa_score(y_test, y_pred))\n",
    "        \n",
    "        \n",
    "    '''results'''    \n",
    "    accuracy_mean, accuracy_std = np.round(np.mean(balanced_accuracies), 3), np.round(np.std(balanced_accuracies), 3)\n",
    "    precision_mean, precision_std = np.round(np.mean(precisions), 3), np.round(np.std(precisions), 3)\n",
    "    recall_mean, recall_std = np.round(np.mean(recalls), 3), np.round(np.std(recalls), 3)\n",
    "    f1_mean, f1_std = np.round(np.mean(f1s), 3), np.round(np.std(f1s), 3)\n",
    "    kappa_mean, kappa_std = np.round(np.mean(kappas), 3), np.round(np.std(kappas), 3)\n",
    "    \n",
    "    ## saving the results in a dataframe\n",
    "    return pd.DataFrame({\"Balanced Accuracy\": \"{} +/- {}\".format(accuracy_mean, accuracy_std),\n",
    "                        \"Precision\": \"{} +/- {}\".format(precision_mean, precision_std),\n",
    "                        \"Recall\": \"{} +/- {}\".format(recall_mean, recall_std),\n",
    "                        \"F1\": \"{} +/- {}\".format(f1_mean, f1_std),\n",
    "                        \"Kappa\": \"{} +/- {}\".format(kappa_mean, kappa_std)},\n",
    "                       index=[model_name])"
   ]
  },
  {
   "cell_type": "markdown",
   "id": "d654379f",
   "metadata": {},
   "source": [
    "## Loading Data"
   ]
  },
  {
   "cell_type": "code",
   "execution_count": 4,
   "id": "b1caa2f6",
   "metadata": {},
   "outputs": [
    {
     "data": {
      "text/html": [
       "<div>\n",
       "<style scoped>\n",
       "    .dataframe tbody tr th:only-of-type {\n",
       "        vertical-align: middle;\n",
       "    }\n",
       "\n",
       "    .dataframe tbody tr th {\n",
       "        vertical-align: top;\n",
       "    }\n",
       "\n",
       "    .dataframe thead th {\n",
       "        text-align: right;\n",
       "    }\n",
       "</style>\n",
       "<table border=\"1\" class=\"dataframe\">\n",
       "  <thead>\n",
       "    <tr style=\"text-align: right;\">\n",
       "      <th></th>\n",
       "      <th>step</th>\n",
       "      <th>type</th>\n",
       "      <th>amount</th>\n",
       "      <th>nameOrig</th>\n",
       "      <th>oldbalanceOrg</th>\n",
       "      <th>newbalanceOrig</th>\n",
       "      <th>nameDest</th>\n",
       "      <th>oldbalanceDest</th>\n",
       "      <th>newbalanceDest</th>\n",
       "      <th>isFraud</th>\n",
       "      <th>isFlaggedFraud</th>\n",
       "    </tr>\n",
       "  </thead>\n",
       "  <tbody>\n",
       "    <tr>\n",
       "      <th>0</th>\n",
       "      <td>1</td>\n",
       "      <td>PAYMENT</td>\n",
       "      <td>9839.64</td>\n",
       "      <td>C1231006815</td>\n",
       "      <td>170136.0</td>\n",
       "      <td>160296.36</td>\n",
       "      <td>M1979787155</td>\n",
       "      <td>0.0</td>\n",
       "      <td>0.0</td>\n",
       "      <td>0</td>\n",
       "      <td>0</td>\n",
       "    </tr>\n",
       "    <tr>\n",
       "      <th>1</th>\n",
       "      <td>1</td>\n",
       "      <td>PAYMENT</td>\n",
       "      <td>1864.28</td>\n",
       "      <td>C1666544295</td>\n",
       "      <td>21249.0</td>\n",
       "      <td>19384.72</td>\n",
       "      <td>M2044282225</td>\n",
       "      <td>0.0</td>\n",
       "      <td>0.0</td>\n",
       "      <td>0</td>\n",
       "      <td>0</td>\n",
       "    </tr>\n",
       "    <tr>\n",
       "      <th>2</th>\n",
       "      <td>1</td>\n",
       "      <td>TRANSFER</td>\n",
       "      <td>181.00</td>\n",
       "      <td>C1305486145</td>\n",
       "      <td>181.0</td>\n",
       "      <td>0.00</td>\n",
       "      <td>C553264065</td>\n",
       "      <td>0.0</td>\n",
       "      <td>0.0</td>\n",
       "      <td>1</td>\n",
       "      <td>0</td>\n",
       "    </tr>\n",
       "    <tr>\n",
       "      <th>3</th>\n",
       "      <td>1</td>\n",
       "      <td>CASH_OUT</td>\n",
       "      <td>181.00</td>\n",
       "      <td>C840083671</td>\n",
       "      <td>181.0</td>\n",
       "      <td>0.00</td>\n",
       "      <td>C38997010</td>\n",
       "      <td>21182.0</td>\n",
       "      <td>0.0</td>\n",
       "      <td>1</td>\n",
       "      <td>0</td>\n",
       "    </tr>\n",
       "    <tr>\n",
       "      <th>4</th>\n",
       "      <td>1</td>\n",
       "      <td>PAYMENT</td>\n",
       "      <td>11668.14</td>\n",
       "      <td>C2048537720</td>\n",
       "      <td>41554.0</td>\n",
       "      <td>29885.86</td>\n",
       "      <td>M1230701703</td>\n",
       "      <td>0.0</td>\n",
       "      <td>0.0</td>\n",
       "      <td>0</td>\n",
       "      <td>0</td>\n",
       "    </tr>\n",
       "  </tbody>\n",
       "</table>\n",
       "</div>"
      ],
      "text/plain": [
       "   step      type    amount     nameOrig  oldbalanceOrg  newbalanceOrig  \\\n",
       "0     1   PAYMENT   9839.64  C1231006815       170136.0       160296.36   \n",
       "1     1   PAYMENT   1864.28  C1666544295        21249.0        19384.72   \n",
       "2     1  TRANSFER    181.00  C1305486145          181.0            0.00   \n",
       "3     1  CASH_OUT    181.00   C840083671          181.0            0.00   \n",
       "4     1   PAYMENT  11668.14  C2048537720        41554.0        29885.86   \n",
       "\n",
       "      nameDest  oldbalanceDest  newbalanceDest  isFraud  isFlaggedFraud  \n",
       "0  M1979787155             0.0             0.0        0               0  \n",
       "1  M2044282225             0.0             0.0        0               0  \n",
       "2   C553264065             0.0             0.0        1               0  \n",
       "3    C38997010         21182.0             0.0        1               0  \n",
       "4  M1230701703             0.0             0.0        0               0  "
      ]
     },
     "execution_count": 4,
     "metadata": {},
     "output_type": "execute_result"
    }
   ],
   "source": [
    "data= pd.read_csv(\"C:\\\\Users\\\\LENOVO\\\\Desktop\\\\Fraud.csv\")\n",
    "data.head()"
   ]
  },
  {
   "cell_type": "code",
   "execution_count": 5,
   "id": "ee6ae22a",
   "metadata": {},
   "outputs": [
    {
     "data": {
      "text/html": [
       "<div>\n",
       "<style scoped>\n",
       "    .dataframe tbody tr th:only-of-type {\n",
       "        vertical-align: middle;\n",
       "    }\n",
       "\n",
       "    .dataframe tbody tr th {\n",
       "        vertical-align: top;\n",
       "    }\n",
       "\n",
       "    .dataframe thead th {\n",
       "        text-align: right;\n",
       "    }\n",
       "</style>\n",
       "<table border=\"1\" class=\"dataframe\">\n",
       "  <thead>\n",
       "    <tr style=\"text-align: right;\">\n",
       "      <th></th>\n",
       "      <th>step</th>\n",
       "      <th>type</th>\n",
       "      <th>amount</th>\n",
       "      <th>nameOrig</th>\n",
       "      <th>oldbalanceOrg</th>\n",
       "      <th>newbalanceOrig</th>\n",
       "      <th>nameDest</th>\n",
       "      <th>oldbalanceDest</th>\n",
       "      <th>newbalanceDest</th>\n",
       "      <th>isFraud</th>\n",
       "      <th>isFlaggedFraud</th>\n",
       "    </tr>\n",
       "  </thead>\n",
       "  <tbody>\n",
       "    <tr>\n",
       "      <th>6362615</th>\n",
       "      <td>743</td>\n",
       "      <td>CASH_OUT</td>\n",
       "      <td>339682.13</td>\n",
       "      <td>C786484425</td>\n",
       "      <td>339682.13</td>\n",
       "      <td>0.0</td>\n",
       "      <td>C776919290</td>\n",
       "      <td>0.00</td>\n",
       "      <td>339682.13</td>\n",
       "      <td>1</td>\n",
       "      <td>0</td>\n",
       "    </tr>\n",
       "    <tr>\n",
       "      <th>6362616</th>\n",
       "      <td>743</td>\n",
       "      <td>TRANSFER</td>\n",
       "      <td>6311409.28</td>\n",
       "      <td>C1529008245</td>\n",
       "      <td>6311409.28</td>\n",
       "      <td>0.0</td>\n",
       "      <td>C1881841831</td>\n",
       "      <td>0.00</td>\n",
       "      <td>0.00</td>\n",
       "      <td>1</td>\n",
       "      <td>0</td>\n",
       "    </tr>\n",
       "    <tr>\n",
       "      <th>6362617</th>\n",
       "      <td>743</td>\n",
       "      <td>CASH_OUT</td>\n",
       "      <td>6311409.28</td>\n",
       "      <td>C1162922333</td>\n",
       "      <td>6311409.28</td>\n",
       "      <td>0.0</td>\n",
       "      <td>C1365125890</td>\n",
       "      <td>68488.84</td>\n",
       "      <td>6379898.11</td>\n",
       "      <td>1</td>\n",
       "      <td>0</td>\n",
       "    </tr>\n",
       "    <tr>\n",
       "      <th>6362618</th>\n",
       "      <td>743</td>\n",
       "      <td>TRANSFER</td>\n",
       "      <td>850002.52</td>\n",
       "      <td>C1685995037</td>\n",
       "      <td>850002.52</td>\n",
       "      <td>0.0</td>\n",
       "      <td>C2080388513</td>\n",
       "      <td>0.00</td>\n",
       "      <td>0.00</td>\n",
       "      <td>1</td>\n",
       "      <td>0</td>\n",
       "    </tr>\n",
       "    <tr>\n",
       "      <th>6362619</th>\n",
       "      <td>743</td>\n",
       "      <td>CASH_OUT</td>\n",
       "      <td>850002.52</td>\n",
       "      <td>C1280323807</td>\n",
       "      <td>850002.52</td>\n",
       "      <td>0.0</td>\n",
       "      <td>C873221189</td>\n",
       "      <td>6510099.11</td>\n",
       "      <td>7360101.63</td>\n",
       "      <td>1</td>\n",
       "      <td>0</td>\n",
       "    </tr>\n",
       "  </tbody>\n",
       "</table>\n",
       "</div>"
      ],
      "text/plain": [
       "         step      type      amount     nameOrig  oldbalanceOrg  \\\n",
       "6362615   743  CASH_OUT   339682.13   C786484425      339682.13   \n",
       "6362616   743  TRANSFER  6311409.28  C1529008245     6311409.28   \n",
       "6362617   743  CASH_OUT  6311409.28  C1162922333     6311409.28   \n",
       "6362618   743  TRANSFER   850002.52  C1685995037      850002.52   \n",
       "6362619   743  CASH_OUT   850002.52  C1280323807      850002.52   \n",
       "\n",
       "         newbalanceOrig     nameDest  oldbalanceDest  newbalanceDest  isFraud  \\\n",
       "6362615             0.0   C776919290            0.00       339682.13        1   \n",
       "6362616             0.0  C1881841831            0.00            0.00        1   \n",
       "6362617             0.0  C1365125890        68488.84      6379898.11        1   \n",
       "6362618             0.0  C2080388513            0.00            0.00        1   \n",
       "6362619             0.0   C873221189      6510099.11      7360101.63        1   \n",
       "\n",
       "         isFlaggedFraud  \n",
       "6362615               0  \n",
       "6362616               0  \n",
       "6362617               0  \n",
       "6362618               0  \n",
       "6362619               0  "
      ]
     },
     "execution_count": 5,
     "metadata": {},
     "output_type": "execute_result"
    }
   ],
   "source": [
    "data.tail()"
   ]
  },
  {
   "cell_type": "markdown",
   "id": "59588852",
   "metadata": {},
   "source": [
    "## Data Dimension"
   ]
  },
  {
   "cell_type": "code",
   "execution_count": 6,
   "id": "29d78ab7",
   "metadata": {},
   "outputs": [
    {
     "name": "stdout",
     "output_type": "stream",
     "text": [
      "Number of Rows: 6362620\n",
      "Number of Cols: 11\n"
     ]
    }
   ],
   "source": [
    "print('Number of Rows: {}'.format(data.shape[0]))\n",
    "print('Number of Cols: {}'.format(data.shape[1]))"
   ]
  },
  {
   "cell_type": "markdown",
   "id": "29148670",
   "metadata": {},
   "source": [
    "## Data Types and Structures"
   ]
  },
  {
   "cell_type": "code",
   "execution_count": 7,
   "id": "8a87abae",
   "metadata": {},
   "outputs": [
    {
     "name": "stdout",
     "output_type": "stream",
     "text": [
      "<class 'pandas.core.frame.DataFrame'>\n",
      "RangeIndex: 6362620 entries, 0 to 6362619\n",
      "Data columns (total 11 columns):\n",
      " #   Column          Dtype  \n",
      "---  ------          -----  \n",
      " 0   step            int64  \n",
      " 1   type            object \n",
      " 2   amount          float64\n",
      " 3   nameOrig        object \n",
      " 4   oldbalanceOrg   float64\n",
      " 5   newbalanceOrig  float64\n",
      " 6   nameDest        object \n",
      " 7   oldbalanceDest  float64\n",
      " 8   newbalanceDest  float64\n",
      " 9   isFraud         int64  \n",
      " 10  isFlaggedFraud  int64  \n",
      "dtypes: float64(5), int64(3), object(3)\n",
      "memory usage: 534.0+ MB\n"
     ]
    }
   ],
   "source": [
    "data.info()"
   ]
  },
  {
   "cell_type": "markdown",
   "id": "8e24b94e",
   "metadata": {},
   "source": [
    "## Missing values"
   ]
  },
  {
   "cell_type": "code",
   "execution_count": 8,
   "id": "e6f6353a",
   "metadata": {},
   "outputs": [
    {
     "data": {
      "text/plain": [
       "step              0\n",
       "type              0\n",
       "amount            0\n",
       "nameOrig          0\n",
       "oldbalanceOrg     0\n",
       "newbalanceOrig    0\n",
       "nameDest          0\n",
       "oldbalanceDest    0\n",
       "newbalanceDest    0\n",
       "isFraud           0\n",
       "isFlaggedFraud    0\n",
       "dtype: int64"
      ]
     },
     "execution_count": 8,
     "metadata": {},
     "output_type": "execute_result"
    }
   ],
   "source": [
    "data.isnull().sum()"
   ]
  },
  {
   "cell_type": "markdown",
   "id": "5fe117ff",
   "metadata": {},
   "source": [
    "### There are no missing values in data"
   ]
  },
  {
   "cell_type": "markdown",
   "id": "e1337d90",
   "metadata": {},
   "source": [
    "## Change datatype to help in data description"
   ]
  },
  {
   "cell_type": "markdown",
   "id": "96af7dc6",
   "metadata": {},
   "source": [
    "## Data Description"
   ]
  },
  {
   "cell_type": "code",
   "execution_count": 10,
   "id": "e387d38a",
   "metadata": {},
   "outputs": [],
   "source": [
    "num_attributes = data.select_dtypes(exclude='object')\n",
    "cat_attributes = data.select_dtypes(include='object')"
   ]
  },
  {
   "cell_type": "markdown",
   "id": "10193ceb",
   "metadata": {},
   "source": [
    "## Numerical attributes"
   ]
  },
  {
   "cell_type": "code",
   "execution_count": 11,
   "id": "ebaa3041",
   "metadata": {},
   "outputs": [
    {
     "data": {
      "text/html": [
       "<div>\n",
       "<style scoped>\n",
       "    .dataframe tbody tr th:only-of-type {\n",
       "        vertical-align: middle;\n",
       "    }\n",
       "\n",
       "    .dataframe tbody tr th {\n",
       "        vertical-align: top;\n",
       "    }\n",
       "\n",
       "    .dataframe thead th {\n",
       "        text-align: right;\n",
       "    }\n",
       "</style>\n",
       "<table border=\"1\" class=\"dataframe\">\n",
       "  <thead>\n",
       "    <tr style=\"text-align: right;\">\n",
       "      <th></th>\n",
       "      <th>count</th>\n",
       "      <th>mean</th>\n",
       "      <th>std</th>\n",
       "      <th>min</th>\n",
       "      <th>25%</th>\n",
       "      <th>50%</th>\n",
       "      <th>75%</th>\n",
       "      <th>max</th>\n",
       "      <th>range</th>\n",
       "      <th>variation coefficient</th>\n",
       "      <th>skew</th>\n",
       "      <th>kurtosis</th>\n",
       "    </tr>\n",
       "  </thead>\n",
       "  <tbody>\n",
       "    <tr>\n",
       "      <th>step</th>\n",
       "      <td>6362620.0</td>\n",
       "      <td>2.433972e+02</td>\n",
       "      <td>1.423320e+02</td>\n",
       "      <td>1.0</td>\n",
       "      <td>156.00</td>\n",
       "      <td>239.000</td>\n",
       "      <td>3.350000e+02</td>\n",
       "      <td>7.430000e+02</td>\n",
       "      <td>7.420000e+02</td>\n",
       "      <td>0.584772</td>\n",
       "      <td>0.375177</td>\n",
       "      <td>0.329071</td>\n",
       "    </tr>\n",
       "    <tr>\n",
       "      <th>amount</th>\n",
       "      <td>6362620.0</td>\n",
       "      <td>1.798619e+05</td>\n",
       "      <td>6.038582e+05</td>\n",
       "      <td>0.0</td>\n",
       "      <td>13389.57</td>\n",
       "      <td>74871.940</td>\n",
       "      <td>2.087215e+05</td>\n",
       "      <td>9.244552e+07</td>\n",
       "      <td>9.244552e+07</td>\n",
       "      <td>3.357344</td>\n",
       "      <td>30.993949</td>\n",
       "      <td>1797.956705</td>\n",
       "    </tr>\n",
       "    <tr>\n",
       "      <th>oldbalanceOrg</th>\n",
       "      <td>6362620.0</td>\n",
       "      <td>8.338831e+05</td>\n",
       "      <td>2.888243e+06</td>\n",
       "      <td>0.0</td>\n",
       "      <td>0.00</td>\n",
       "      <td>14208.000</td>\n",
       "      <td>1.073152e+05</td>\n",
       "      <td>5.958504e+07</td>\n",
       "      <td>5.958504e+07</td>\n",
       "      <td>3.463606</td>\n",
       "      <td>5.249136</td>\n",
       "      <td>32.964879</td>\n",
       "    </tr>\n",
       "    <tr>\n",
       "      <th>newbalanceOrig</th>\n",
       "      <td>6362620.0</td>\n",
       "      <td>8.551137e+05</td>\n",
       "      <td>2.924049e+06</td>\n",
       "      <td>0.0</td>\n",
       "      <td>0.00</td>\n",
       "      <td>0.000</td>\n",
       "      <td>1.442584e+05</td>\n",
       "      <td>4.958504e+07</td>\n",
       "      <td>4.958504e+07</td>\n",
       "      <td>3.419485</td>\n",
       "      <td>5.176884</td>\n",
       "      <td>32.066985</td>\n",
       "    </tr>\n",
       "    <tr>\n",
       "      <th>oldbalanceDest</th>\n",
       "      <td>6362620.0</td>\n",
       "      <td>1.100702e+06</td>\n",
       "      <td>3.399180e+06</td>\n",
       "      <td>0.0</td>\n",
       "      <td>0.00</td>\n",
       "      <td>132705.665</td>\n",
       "      <td>9.430367e+05</td>\n",
       "      <td>3.560159e+08</td>\n",
       "      <td>3.560159e+08</td>\n",
       "      <td>3.088194</td>\n",
       "      <td>19.921758</td>\n",
       "      <td>948.674125</td>\n",
       "    </tr>\n",
       "    <tr>\n",
       "      <th>newbalanceDest</th>\n",
       "      <td>6362620.0</td>\n",
       "      <td>1.224996e+06</td>\n",
       "      <td>3.674129e+06</td>\n",
       "      <td>0.0</td>\n",
       "      <td>0.00</td>\n",
       "      <td>214661.440</td>\n",
       "      <td>1.111909e+06</td>\n",
       "      <td>3.561793e+08</td>\n",
       "      <td>3.561793e+08</td>\n",
       "      <td>2.999298</td>\n",
       "      <td>19.352302</td>\n",
       "      <td>862.156508</td>\n",
       "    </tr>\n",
       "  </tbody>\n",
       "</table>\n",
       "</div>"
      ],
      "text/plain": [
       "                    count          mean           std  min       25%  \\\n",
       "step            6362620.0  2.433972e+02  1.423320e+02  1.0    156.00   \n",
       "amount          6362620.0  1.798619e+05  6.038582e+05  0.0  13389.57   \n",
       "oldbalanceOrg   6362620.0  8.338831e+05  2.888243e+06  0.0      0.00   \n",
       "newbalanceOrig  6362620.0  8.551137e+05  2.924049e+06  0.0      0.00   \n",
       "oldbalanceDest  6362620.0  1.100702e+06  3.399180e+06  0.0      0.00   \n",
       "newbalanceDest  6362620.0  1.224996e+06  3.674129e+06  0.0      0.00   \n",
       "\n",
       "                       50%           75%           max         range  \\\n",
       "step               239.000  3.350000e+02  7.430000e+02  7.420000e+02   \n",
       "amount           74871.940  2.087215e+05  9.244552e+07  9.244552e+07   \n",
       "oldbalanceOrg    14208.000  1.073152e+05  5.958504e+07  5.958504e+07   \n",
       "newbalanceOrig       0.000  1.442584e+05  4.958504e+07  4.958504e+07   \n",
       "oldbalanceDest  132705.665  9.430367e+05  3.560159e+08  3.560159e+08   \n",
       "newbalanceDest  214661.440  1.111909e+06  3.561793e+08  3.561793e+08   \n",
       "\n",
       "                variation coefficient       skew     kurtosis  \n",
       "step                         0.584772   0.375177     0.329071  \n",
       "amount                       3.357344  30.993949  1797.956705  \n",
       "oldbalanceOrg                3.463606   5.249136    32.964879  \n",
       "newbalanceOrig               3.419485   5.176884    32.066985  \n",
       "oldbalanceDest               3.088194  19.921758   948.674125  \n",
       "newbalanceDest               2.999298  19.352302   862.156508  "
      ]
     },
     "execution_count": 11,
     "metadata": {},
     "output_type": "execute_result"
    }
   ],
   "source": [
    "describe = num_attributes.describe().T\n",
    "\n",
    "describe['range'] = (num_attributes.max() - num_attributes.min()).tolist()\n",
    "describe['variation coefficient'] = (num_attributes.std() / num_attributes.mean()).tolist()\n",
    "describe['skew'] = num_attributes.skew().tolist()\n",
    "describe['kurtosis'] = num_attributes.kurtosis().tolist()\n",
    "\n",
    "describe"
   ]
  },
  {
   "cell_type": "markdown",
   "id": "f00d1464",
   "metadata": {},
   "source": [
    "* 50% of newbalance in original account is 0\n",
    "* Skewness is in positive direction\n"
   ]
  },
  {
   "cell_type": "markdown",
   "id": "dfa0cccc",
   "metadata": {},
   "source": [
    "## Categorical attributes"
   ]
  },
  {
   "cell_type": "code",
   "execution_count": 12,
   "id": "00119f36",
   "metadata": {},
   "outputs": [
    {
     "data": {
      "text/html": [
       "<div>\n",
       "<style scoped>\n",
       "    .dataframe tbody tr th:only-of-type {\n",
       "        vertical-align: middle;\n",
       "    }\n",
       "\n",
       "    .dataframe tbody tr th {\n",
       "        vertical-align: top;\n",
       "    }\n",
       "\n",
       "    .dataframe thead th {\n",
       "        text-align: right;\n",
       "    }\n",
       "</style>\n",
       "<table border=\"1\" class=\"dataframe\">\n",
       "  <thead>\n",
       "    <tr style=\"text-align: right;\">\n",
       "      <th></th>\n",
       "      <th>type</th>\n",
       "      <th>nameOrig</th>\n",
       "      <th>nameDest</th>\n",
       "      <th>isFraud</th>\n",
       "      <th>isFlaggedFraud</th>\n",
       "    </tr>\n",
       "  </thead>\n",
       "  <tbody>\n",
       "    <tr>\n",
       "      <th>count</th>\n",
       "      <td>6362620</td>\n",
       "      <td>6362620</td>\n",
       "      <td>6362620</td>\n",
       "      <td>6362620</td>\n",
       "      <td>6362620</td>\n",
       "    </tr>\n",
       "    <tr>\n",
       "      <th>unique</th>\n",
       "      <td>5</td>\n",
       "      <td>6353307</td>\n",
       "      <td>2722362</td>\n",
       "      <td>2</td>\n",
       "      <td>2</td>\n",
       "    </tr>\n",
       "    <tr>\n",
       "      <th>top</th>\n",
       "      <td>CASH_OUT</td>\n",
       "      <td>C1902386530</td>\n",
       "      <td>C1286084959</td>\n",
       "      <td>no</td>\n",
       "      <td>no</td>\n",
       "    </tr>\n",
       "    <tr>\n",
       "      <th>freq</th>\n",
       "      <td>2237500</td>\n",
       "      <td>3</td>\n",
       "      <td>113</td>\n",
       "      <td>6354407</td>\n",
       "      <td>6362604</td>\n",
       "    </tr>\n",
       "  </tbody>\n",
       "</table>\n",
       "</div>"
      ],
      "text/plain": [
       "            type     nameOrig     nameDest  isFraud isFlaggedFraud\n",
       "count    6362620      6362620      6362620  6362620        6362620\n",
       "unique         5      6353307      2722362        2              2\n",
       "top     CASH_OUT  C1902386530  C1286084959       no             no\n",
       "freq     2237500            3          113  6354407        6362604"
      ]
     },
     "execution_count": 12,
     "metadata": {},
     "output_type": "execute_result"
    }
   ],
   "source": [
    "cat_attributes.describe()"
   ]
  },
  {
   "cell_type": "markdown",
   "id": "31f6b577",
   "metadata": {},
   "source": [
    "## Feature Engineering"
   ]
  },
  {
   "cell_type": "code",
   "execution_count": 5,
   "id": "cd125467",
   "metadata": {},
   "outputs": [],
   "source": [
    "data1=data.copy()"
   ]
  },
  {
   "cell_type": "markdown",
   "id": "41c16d1a",
   "metadata": {},
   "source": [
    "## No information has been given for those entities which have Merchant as the destination name\n",
    "\n"
   ]
  },
  {
   "cell_type": "markdown",
   "id": "7a6595bb",
   "metadata": {},
   "source": [
    "## Fix missing data:\n",
    "Interpolating oldbalance and updating new balance with payment"
   ]
  },
  {
   "cell_type": "code",
   "execution_count": 6,
   "id": "d42232ba",
   "metadata": {},
   "outputs": [
    {
     "name": "stdout",
     "output_type": "stream",
     "text": [
      "2151495 rows updated with NaN\n"
     ]
    }
   ],
   "source": [
    "\n",
    "data1.loc[data1['nameDest'].str.startswith('M'), ['oldbalanceDest']] = np.NaN\n",
    "print('{} rows updated with NaN'.format(data1['oldbalanceDest'].isnull().sum()))"
   ]
  },
  {
   "cell_type": "code",
   "execution_count": 7,
   "id": "3b86233a",
   "metadata": {},
   "outputs": [],
   "source": [
    "data1=data1.interpolate()"
   ]
  },
  {
   "cell_type": "markdown",
   "id": "f3001914",
   "metadata": {},
   "source": [
    "Finding missing data after interpolation"
   ]
  },
  {
   "cell_type": "code",
   "execution_count": 9,
   "id": "3963c7a2",
   "metadata": {},
   "outputs": [
    {
     "data": {
      "text/html": [
       "<div>\n",
       "<style scoped>\n",
       "    .dataframe tbody tr th:only-of-type {\n",
       "        vertical-align: middle;\n",
       "    }\n",
       "\n",
       "    .dataframe tbody tr th {\n",
       "        vertical-align: top;\n",
       "    }\n",
       "\n",
       "    .dataframe thead th {\n",
       "        text-align: right;\n",
       "    }\n",
       "</style>\n",
       "<table border=\"1\" class=\"dataframe\">\n",
       "  <thead>\n",
       "    <tr style=\"text-align: right;\">\n",
       "      <th></th>\n",
       "      <th>step</th>\n",
       "      <th>type</th>\n",
       "      <th>amount</th>\n",
       "      <th>nameOrig</th>\n",
       "      <th>oldbalanceOrg</th>\n",
       "      <th>newbalanceOrig</th>\n",
       "      <th>nameDest</th>\n",
       "      <th>oldbalanceDest</th>\n",
       "      <th>newbalanceDest</th>\n",
       "      <th>isFraud</th>\n",
       "      <th>isFlaggedFraud</th>\n",
       "    </tr>\n",
       "  </thead>\n",
       "  <tbody>\n",
       "    <tr>\n",
       "      <th>0</th>\n",
       "      <td>1</td>\n",
       "      <td>PAYMENT</td>\n",
       "      <td>9839.64</td>\n",
       "      <td>C1231006815</td>\n",
       "      <td>170136.0</td>\n",
       "      <td>160296.36</td>\n",
       "      <td>M1979787155</td>\n",
       "      <td>NaN</td>\n",
       "      <td>0.0</td>\n",
       "      <td>0</td>\n",
       "      <td>0</td>\n",
       "    </tr>\n",
       "    <tr>\n",
       "      <th>1</th>\n",
       "      <td>1</td>\n",
       "      <td>PAYMENT</td>\n",
       "      <td>1864.28</td>\n",
       "      <td>C1666544295</td>\n",
       "      <td>21249.0</td>\n",
       "      <td>19384.72</td>\n",
       "      <td>M2044282225</td>\n",
       "      <td>NaN</td>\n",
       "      <td>0.0</td>\n",
       "      <td>0</td>\n",
       "      <td>0</td>\n",
       "    </tr>\n",
       "  </tbody>\n",
       "</table>\n",
       "</div>"
      ],
      "text/plain": [
       "   step     type   amount     nameOrig  oldbalanceOrg  newbalanceOrig  \\\n",
       "0     1  PAYMENT  9839.64  C1231006815       170136.0       160296.36   \n",
       "1     1  PAYMENT  1864.28  C1666544295        21249.0        19384.72   \n",
       "\n",
       "      nameDest  oldbalanceDest  newbalanceDest  isFraud  isFlaggedFraud  \n",
       "0  M1979787155             NaN             0.0        0               0  \n",
       "1  M2044282225             NaN             0.0        0               0  "
      ]
     },
     "execution_count": 9,
     "metadata": {},
     "output_type": "execute_result"
    }
   ],
   "source": [
    "data1[data1['oldbalanceDest'].isnull()]"
   ]
  },
  {
   "cell_type": "markdown",
   "id": "94bc38fb",
   "metadata": {},
   "source": [
    "These are the 1st two rows in the dataset, and couldn't be interpolated. So let's assign oldbalanceDest for these to zero."
   ]
  },
  {
   "cell_type": "code",
   "execution_count": 8,
   "id": "06ffd4f0",
   "metadata": {},
   "outputs": [],
   "source": [
    "data1.loc[data1['oldbalanceDest'].isnull(), 'oldbalanceDest'] = 0"
   ]
  },
  {
   "cell_type": "code",
   "execution_count": 11,
   "id": "4ab31968",
   "metadata": {},
   "outputs": [
    {
     "data": {
      "text/plain": [
       "False"
      ]
     },
     "execution_count": 11,
     "metadata": {},
     "output_type": "execute_result"
    }
   ],
   "source": [
    "data1.isnull().values.any()"
   ]
  },
  {
   "cell_type": "markdown",
   "id": "15dbc934",
   "metadata": {},
   "source": [
    "So, let's use a general update criteria for updating newbalanceDest"
   ]
  },
  {
   "cell_type": "code",
   "execution_count": 9,
   "id": "28313235",
   "metadata": {},
   "outputs": [],
   "source": [
    "newbalanceDest = data1.loc[data1.nameDest.str.get(0) == 'M', 'oldbalanceDest'] + data1.loc[data1.nameDest.str.get(0) == 'M','amount']"
   ]
  },
  {
   "cell_type": "code",
   "execution_count": 10,
   "id": "2e08f93b",
   "metadata": {},
   "outputs": [],
   "source": [
    "data1.loc[data1['nameDest'].str.get(0) == 'M', ['newbalanceDest']] = newbalanceDest"
   ]
  },
  {
   "cell_type": "code",
   "execution_count": 14,
   "id": "27cdd07c",
   "metadata": {},
   "outputs": [
    {
     "data": {
      "text/plain": [
       "0"
      ]
     },
     "execution_count": 14,
     "metadata": {},
     "output_type": "execute_result"
    }
   ],
   "source": [
    "len(data1[(data1['nameDest'].str.get(0) == 'M') & (data1['amount'] == data1['oldbalanceOrg'])])"
   ]
  },
  {
   "cell_type": "markdown",
   "id": "f633679d",
   "metadata": {},
   "source": [
    "No transactions to merchants try to empty funds in Original account.  \n",
    "None of them need to be marked as isFraud.  \n",
    "So we have fixed all missing data."
   ]
  },
  {
   "cell_type": "markdown",
   "id": "0b6d61ad",
   "metadata": {},
   "source": [
    "## EDA"
   ]
  },
  {
   "cell_type": "markdown",
   "id": "fb1d0ff1",
   "metadata": {},
   "source": [
    "### Response variable"
   ]
  },
  {
   "cell_type": "code",
   "execution_count": 20,
   "id": "2b30f43d",
   "metadata": {},
   "outputs": [
    {
     "data": {
      "image/png": "[encoded data removed]",
      "text/plain": [
       "<Figure size 640x480 with 1 Axes>"
      ]
     },
     "metadata": {},
     "output_type": "display_data"
    }
   ],
   "source": [
    "ax = sns.countplot(y='isFraud', data=data1);\n",
    "\n",
    "total = data1['isFraud'].size\n",
    "for p in ax.patches:\n",
    "        percentage = ' {:.1f}%'.format(100 * p.get_width()/total)\n",
    "        x = p.get_x() + p.get_width() + 0.02\n",
    "        y = p.get_y() + p.get_height()/2\n",
    "        ax.annotate(percentage, (x, y))"
   ]
  },
  {
   "cell_type": "markdown",
   "id": "8150f303",
   "metadata": {},
   "source": [
    "### Categorical variable"
   ]
  },
  {
   "cell_type": "code",
   "execution_count": 22,
   "id": "55f8db90",
   "metadata": {},
   "outputs": [
    {
     "data": {
      "image/png": "[encoded data removed]",
      "text/plain": [
       "<Figure size 640x480 with 5 Axes>"
      ]
     },
     "metadata": {},
     "output_type": "display_data"
    }
   ],
   "source": [
    "cat_attributes = data1.select_dtypes(include='object')\n",
    "columns = cat_attributes.columns.tolist()\n",
    "j = 1\n",
    "\n",
    "for column in columns:\n",
    "    plt.subplot(3, 2, j)\n",
    "    ax = sns.countplot(y=column, data=cat_attributes)\n",
    "    \n",
    "    total = cat_attributes[column].size\n",
    "    for p in ax.patches:\n",
    "        percentage = ' {:.1f}%'.format(100 * p.get_width()/total)\n",
    "        x = p.get_x() + p.get_width() + 0.02\n",
    "        y = p.get_y() + p.get_height()/2\n",
    "        ax.annotate(percentage, (x, y))\n",
    "    \n",
    "    j += 1"
   ]
  },
  {
   "cell_type": "markdown",
   "id": "c5b6936c",
   "metadata": {},
   "source": [
    "### Amount of fraud"
   ]
  },
  {
   "cell_type": "code",
   "execution_count": 23,
   "id": "6d86a0ed",
   "metadata": {},
   "outputs": [
    {
     "data": {
      "image/png": "[encoded data removed]",
      "text/plain": [
       "<Figure size 640x480 with 1 Axes>"
      ]
     },
     "metadata": {},
     "output_type": "display_data"
    }
   ],
   "source": [
    "sns.barplot(y='amount', x='isFraud', data=data1);"
   ]
  },
  {
   "cell_type": "code",
   "execution_count": 25,
   "id": "796d36e4",
   "metadata": {},
   "outputs": [
    {
     "name": "stdout",
     "output_type": "stream",
     "text": [
      "Maximum fraud trasaction is Rs. 10000000.0\n",
      "Minimum fraud trasaction is Rs. 0.0\n"
     ]
    }
   ],
   "source": [
    "print(\"Maximum fraud trasaction is Rs.\",Fraud_data['amount'].max())\n",
    "print(\"Minimum fraud trasaction is Rs.\",Fraud_data['amount'].min())"
   ]
  },
  {
   "cell_type": "markdown",
   "id": "8c326667",
   "metadata": {},
   "source": [
    "### Fraud transactions in type of transactions"
   ]
  },
  {
   "cell_type": "code",
   "execution_count": 26,
   "id": "6b4a37b9",
   "metadata": {},
   "outputs": [
    {
     "data": {
      "image/png": "[encoded data removed]",
      "text/plain": [
       "<Figure size 640x480 with 1 Axes>"
      ]
     },
     "metadata": {},
     "output_type": "display_data"
    }
   ],
   "source": [
    "aux1 = data1[data1['isFraud'] == '1']\n",
    "ax = sns.countplot(y='type', data=aux1)\n",
    "\n",
    "total = aux1['type'].size\n",
    "for p in ax.patches:\n",
    "        percentage = ' {:.1f}%'.format(100 * p.get_width()/total)\n",
    "        x = p.get_x() + p.get_width() + 0.02\n",
    "        y = p.get_y() + p.get_height()/2\n",
    "        ax.annotate(percentage, (x, y))"
   ]
  },
  {
   "cell_type": "markdown",
   "id": "6fc96d0f",
   "metadata": {},
   "source": [
    "#### Almost same fraud transactions happen in Transfer and Cash out type"
   ]
  },
  {
   "cell_type": "markdown",
   "id": "8919be47",
   "metadata": {},
   "source": [
    "## Flagged Fraud"
   ]
  },
  {
   "cell_type": "markdown",
   "id": "a1b7fb17",
   "metadata": {},
   "source": [
    "Attempt to transfer => Original and destination accounts are not modified"
   ]
  },
  {
   "cell_type": "code",
   "execution_count": 15,
   "id": "6980ea62",
   "metadata": {},
   "outputs": [
    {
     "data": {
      "text/plain": [
       "21"
      ]
     },
     "execution_count": 15,
     "metadata": {},
     "output_type": "execute_result"
    }
   ],
   "source": [
    "len(data1[  (data1['oldbalanceOrg'] == data1['newbalanceOrig']) \\\n",
    "       & (data1['oldbalanceDest'] == data1['newbalanceDest']) \\\n",
    "       & (data1['amount']>200.000) \\\n",
    "       & (data1['type']=='TRANSFER') ])"
   ]
  },
  {
   "cell_type": "code",
   "execution_count": 16,
   "id": "40df3a85",
   "metadata": {},
   "outputs": [
    {
     "data": {
      "text/plain": [
       "16"
      ]
     },
     "execution_count": 16,
     "metadata": {},
     "output_type": "execute_result"
    }
   ],
   "source": [
    "len(data1[data1['isFlaggedFraud'] == 1])"
   ]
  },
  {
   "cell_type": "code",
   "execution_count": 17,
   "id": "257dc4bb",
   "metadata": {},
   "outputs": [
    {
     "data": {
      "text/html": [
       "<div>\n",
       "<style scoped>\n",
       "    .dataframe tbody tr th:only-of-type {\n",
       "        vertical-align: middle;\n",
       "    }\n",
       "\n",
       "    .dataframe tbody tr th {\n",
       "        vertical-align: top;\n",
       "    }\n",
       "\n",
       "    .dataframe thead th {\n",
       "        text-align: right;\n",
       "    }\n",
       "</style>\n",
       "<table border=\"1\" class=\"dataframe\">\n",
       "  <thead>\n",
       "    <tr style=\"text-align: right;\">\n",
       "      <th></th>\n",
       "      <th>step</th>\n",
       "      <th>amount</th>\n",
       "      <th>oldbalanceOrg</th>\n",
       "      <th>newbalanceOrig</th>\n",
       "      <th>oldbalanceDest</th>\n",
       "      <th>newbalanceDest</th>\n",
       "      <th>isFraud</th>\n",
       "      <th>isFlaggedFraud</th>\n",
       "    </tr>\n",
       "  </thead>\n",
       "  <tbody>\n",
       "    <tr>\n",
       "      <th>count</th>\n",
       "      <td>5.00000</td>\n",
       "      <td>5.000000</td>\n",
       "      <td>5.0</td>\n",
       "      <td>5.0</td>\n",
       "      <td>5.0</td>\n",
       "      <td>5.0</td>\n",
       "      <td>5.0</td>\n",
       "      <td>5.0</td>\n",
       "    </tr>\n",
       "    <tr>\n",
       "      <th>mean</th>\n",
       "      <td>16.80000</td>\n",
       "      <td>237475.474000</td>\n",
       "      <td>0.0</td>\n",
       "      <td>0.0</td>\n",
       "      <td>0.0</td>\n",
       "      <td>0.0</td>\n",
       "      <td>0.0</td>\n",
       "      <td>0.0</td>\n",
       "    </tr>\n",
       "    <tr>\n",
       "      <th>std</th>\n",
       "      <td>16.11521</td>\n",
       "      <td>161578.156092</td>\n",
       "      <td>0.0</td>\n",
       "      <td>0.0</td>\n",
       "      <td>0.0</td>\n",
       "      <td>0.0</td>\n",
       "      <td>0.0</td>\n",
       "      <td>0.0</td>\n",
       "    </tr>\n",
       "    <tr>\n",
       "      <th>min</th>\n",
       "      <td>1.00000</td>\n",
       "      <td>18931.590000</td>\n",
       "      <td>0.0</td>\n",
       "      <td>0.0</td>\n",
       "      <td>0.0</td>\n",
       "      <td>0.0</td>\n",
       "      <td>0.0</td>\n",
       "      <td>0.0</td>\n",
       "    </tr>\n",
       "    <tr>\n",
       "      <th>25%</th>\n",
       "      <td>12.00000</td>\n",
       "      <td>133711.480000</td>\n",
       "      <td>0.0</td>\n",
       "      <td>0.0</td>\n",
       "      <td>0.0</td>\n",
       "      <td>0.0</td>\n",
       "      <td>0.0</td>\n",
       "      <td>0.0</td>\n",
       "    </tr>\n",
       "    <tr>\n",
       "      <th>50%</th>\n",
       "      <td>12.00000</td>\n",
       "      <td>271161.740000</td>\n",
       "      <td>0.0</td>\n",
       "      <td>0.0</td>\n",
       "      <td>0.0</td>\n",
       "      <td>0.0</td>\n",
       "      <td>0.0</td>\n",
       "      <td>0.0</td>\n",
       "    </tr>\n",
       "    <tr>\n",
       "      <th>75%</th>\n",
       "      <td>15.00000</td>\n",
       "      <td>342317.150000</td>\n",
       "      <td>0.0</td>\n",
       "      <td>0.0</td>\n",
       "      <td>0.0</td>\n",
       "      <td>0.0</td>\n",
       "      <td>0.0</td>\n",
       "      <td>0.0</td>\n",
       "    </tr>\n",
       "    <tr>\n",
       "      <th>max</th>\n",
       "      <td>44.00000</td>\n",
       "      <td>421255.410000</td>\n",
       "      <td>0.0</td>\n",
       "      <td>0.0</td>\n",
       "      <td>0.0</td>\n",
       "      <td>0.0</td>\n",
       "      <td>0.0</td>\n",
       "      <td>0.0</td>\n",
       "    </tr>\n",
       "  </tbody>\n",
       "</table>\n",
       "</div>"
      ],
      "text/plain": [
       "           step         amount  oldbalanceOrg  newbalanceOrig  oldbalanceDest  \\\n",
       "count   5.00000       5.000000            5.0             5.0             5.0   \n",
       "mean   16.80000  237475.474000            0.0             0.0             0.0   \n",
       "std    16.11521  161578.156092            0.0             0.0             0.0   \n",
       "min     1.00000   18931.590000            0.0             0.0             0.0   \n",
       "25%    12.00000  133711.480000            0.0             0.0             0.0   \n",
       "50%    12.00000  271161.740000            0.0             0.0             0.0   \n",
       "75%    15.00000  342317.150000            0.0             0.0             0.0   \n",
       "max    44.00000  421255.410000            0.0             0.0             0.0   \n",
       "\n",
       "       newbalanceDest  isFraud  isFlaggedFraud  \n",
       "count             5.0      5.0             5.0  \n",
       "mean              0.0      0.0             0.0  \n",
       "std               0.0      0.0             0.0  \n",
       "min               0.0      0.0             0.0  \n",
       "25%               0.0      0.0             0.0  \n",
       "50%               0.0      0.0             0.0  \n",
       "75%               0.0      0.0             0.0  \n",
       "max               0.0      0.0             0.0  "
      ]
     },
     "execution_count": 17,
     "metadata": {},
     "output_type": "execute_result"
    }
   ],
   "source": [
    "dff_outliers = data1[  (data1['oldbalanceOrg'] == data1['newbalanceOrig']) \\\n",
    "       & (data1['oldbalanceDest'] == data1['newbalanceDest']) \\\n",
    "       & (data1['amount']>200.000) \\\n",
    "       & (data1['type']=='TRANSFER') \\\n",
    "       & (data1['isFlaggedFraud']==0)]\n",
    "dff_outliers.describe()"
   ]
  },
  {
   "cell_type": "markdown",
   "id": "fdbe4dec",
   "metadata": {},
   "source": [
    "Outliers show pattern hence cannot be ignored"
   ]
  },
  {
   "cell_type": "markdown",
   "id": "f2e06565",
   "metadata": {},
   "source": [
    "### Multiicollinearity"
   ]
  },
  {
   "cell_type": "code",
   "execution_count": 27,
   "id": "b93dc6b8",
   "metadata": {},
   "outputs": [
    {
     "data": {
      "text/html": [
       "<div>\n",
       "<style scoped>\n",
       "    .dataframe tbody tr th:only-of-type {\n",
       "        vertical-align: middle;\n",
       "    }\n",
       "\n",
       "    .dataframe tbody tr th {\n",
       "        vertical-align: top;\n",
       "    }\n",
       "\n",
       "    .dataframe thead th {\n",
       "        text-align: right;\n",
       "    }\n",
       "</style>\n",
       "<table border=\"1\" class=\"dataframe\">\n",
       "  <thead>\n",
       "    <tr style=\"text-align: right;\">\n",
       "      <th></th>\n",
       "      <th>step</th>\n",
       "      <th>amount</th>\n",
       "      <th>oldbalanceOrg</th>\n",
       "      <th>newbalanceOrig</th>\n",
       "      <th>oldbalanceDest</th>\n",
       "      <th>newbalanceDest</th>\n",
       "      <th>diff_new_old_balance</th>\n",
       "      <th>diff_new_old_destiny</th>\n",
       "    </tr>\n",
       "  </thead>\n",
       "  <tbody>\n",
       "    <tr>\n",
       "      <th>step</th>\n",
       "      <td>1.000000</td>\n",
       "      <td>0.028621</td>\n",
       "      <td>-0.009874</td>\n",
       "      <td>-0.010141</td>\n",
       "      <td>0.036444</td>\n",
       "      <td>0.034297</td>\n",
       "      <td>0.007490</td>\n",
       "      <td>0.002307</td>\n",
       "    </tr>\n",
       "    <tr>\n",
       "      <th>amount</th>\n",
       "      <td>0.028621</td>\n",
       "      <td>1.000000</td>\n",
       "      <td>-0.041776</td>\n",
       "      <td>-0.048015</td>\n",
       "      <td>0.260521</td>\n",
       "      <td>0.433038</td>\n",
       "      <td>0.132568</td>\n",
       "      <td>0.846072</td>\n",
       "    </tr>\n",
       "    <tr>\n",
       "      <th>oldbalanceOrg</th>\n",
       "      <td>-0.009874</td>\n",
       "      <td>-0.041776</td>\n",
       "      <td>1.000000</td>\n",
       "      <td>0.998768</td>\n",
       "      <td>0.023454</td>\n",
       "      <td>-0.003284</td>\n",
       "      <td>-0.200887</td>\n",
       "      <td>-0.110481</td>\n",
       "    </tr>\n",
       "    <tr>\n",
       "      <th>newbalanceOrig</th>\n",
       "      <td>-0.010141</td>\n",
       "      <td>-0.048015</td>\n",
       "      <td>0.998768</td>\n",
       "      <td>1.000000</td>\n",
       "      <td>0.024044</td>\n",
       "      <td>-0.004596</td>\n",
       "      <td>-0.249255</td>\n",
       "      <td>-0.118691</td>\n",
       "    </tr>\n",
       "    <tr>\n",
       "      <th>oldbalanceDest</th>\n",
       "      <td>0.036444</td>\n",
       "      <td>0.260521</td>\n",
       "      <td>0.023454</td>\n",
       "      <td>0.024044</td>\n",
       "      <td>1.000000</td>\n",
       "      <td>0.975226</td>\n",
       "      <td>-0.016934</td>\n",
       "      <td>0.214082</td>\n",
       "    </tr>\n",
       "    <tr>\n",
       "      <th>newbalanceDest</th>\n",
       "      <td>0.034297</td>\n",
       "      <td>0.433038</td>\n",
       "      <td>-0.003284</td>\n",
       "      <td>-0.004596</td>\n",
       "      <td>0.975226</td>\n",
       "      <td>1.000000</td>\n",
       "      <td>0.026642</td>\n",
       "      <td>0.424859</td>\n",
       "    </tr>\n",
       "    <tr>\n",
       "      <th>diff_new_old_balance</th>\n",
       "      <td>0.007490</td>\n",
       "      <td>0.132568</td>\n",
       "      <td>-0.200887</td>\n",
       "      <td>-0.249255</td>\n",
       "      <td>-0.016934</td>\n",
       "      <td>0.026642</td>\n",
       "      <td>1.000000</td>\n",
       "      <td>0.186943</td>\n",
       "    </tr>\n",
       "    <tr>\n",
       "      <th>diff_new_old_destiny</th>\n",
       "      <td>0.002307</td>\n",
       "      <td>0.846072</td>\n",
       "      <td>-0.110481</td>\n",
       "      <td>-0.118691</td>\n",
       "      <td>0.214082</td>\n",
       "      <td>0.424859</td>\n",
       "      <td>0.186943</td>\n",
       "      <td>1.000000</td>\n",
       "    </tr>\n",
       "  </tbody>\n",
       "</table>\n",
       "</div>"
      ],
      "text/plain": [
       "                          step    amount  oldbalanceOrg  newbalanceOrig  \\\n",
       "step                  1.000000  0.028621      -0.009874       -0.010141   \n",
       "amount                0.028621  1.000000      -0.041776       -0.048015   \n",
       "oldbalanceOrg        -0.009874 -0.041776       1.000000        0.998768   \n",
       "newbalanceOrig       -0.010141 -0.048015       0.998768        1.000000   \n",
       "oldbalanceDest        0.036444  0.260521       0.023454        0.024044   \n",
       "newbalanceDest        0.034297  0.433038      -0.003284       -0.004596   \n",
       "diff_new_old_balance  0.007490  0.132568      -0.200887       -0.249255   \n",
       "diff_new_old_destiny  0.002307  0.846072      -0.110481       -0.118691   \n",
       "\n",
       "                      oldbalanceDest  newbalanceDest  diff_new_old_balance  \\\n",
       "step                        0.036444        0.034297              0.007490   \n",
       "amount                      0.260521        0.433038              0.132568   \n",
       "oldbalanceOrg               0.023454       -0.003284             -0.200887   \n",
       "newbalanceOrig              0.024044       -0.004596             -0.249255   \n",
       "oldbalanceDest              1.000000        0.975226             -0.016934   \n",
       "newbalanceDest              0.975226        1.000000              0.026642   \n",
       "diff_new_old_balance       -0.016934        0.026642              1.000000   \n",
       "diff_new_old_destiny        0.214082        0.424859              0.186943   \n",
       "\n",
       "                      diff_new_old_destiny  \n",
       "step                              0.002307  \n",
       "amount                            0.846072  \n",
       "oldbalanceOrg                    -0.110481  \n",
       "newbalanceOrig                   -0.118691  \n",
       "oldbalanceDest                    0.214082  \n",
       "newbalanceDest                    0.424859  \n",
       "diff_new_old_balance              0.186943  \n",
       "diff_new_old_destiny              1.000000  "
      ]
     },
     "execution_count": 27,
     "metadata": {},
     "output_type": "execute_result"
    }
   ],
   "source": [
    "data1.select_dtypes(exclude='object').corr()"
   ]
  },
  {
   "cell_type": "markdown",
   "id": "715d7c1a",
   "metadata": {},
   "source": [
    "## Data Preparation"
   ]
  },
  {
   "cell_type": "markdown",
   "id": "4f63231f",
   "metadata": {},
   "source": [
    "### Remove wanted columns"
   ]
  },
  {
   "cell_type": "code",
   "execution_count": 11,
   "id": "862a9d39",
   "metadata": {},
   "outputs": [],
   "source": [
    "data1 = data1.drop(['nameOrig', 'nameDest'], axis=1)"
   ]
  },
  {
   "cell_type": "markdown",
   "id": "af9d1dea",
   "metadata": {},
   "source": [
    "### Normalization"
   ]
  },
  {
   "cell_type": "code",
   "execution_count": 12,
   "id": "fe69519f",
   "metadata": {},
   "outputs": [],
   "source": [
    "cols = ['amount', 'oldbalanceOrg', 'newbalanceOrig', 'oldbalanceDest', 'newbalanceDest']\n",
    "data1['step'] = data1['step'] - data1['step'].mean() / (data1['step'].std())\n",
    "data1[cols] = data1[cols].apply(lambda x: (np.log(x+10)))"
   ]
  },
  {
   "cell_type": "code",
   "execution_count": 20,
   "id": "9783bb6d",
   "metadata": {},
   "outputs": [
    {
     "data": {
      "text/html": [
       "<div>\n",
       "<style scoped>\n",
       "    .dataframe tbody tr th:only-of-type {\n",
       "        vertical-align: middle;\n",
       "    }\n",
       "\n",
       "    .dataframe tbody tr th {\n",
       "        vertical-align: top;\n",
       "    }\n",
       "\n",
       "    .dataframe thead th {\n",
       "        text-align: right;\n",
       "    }\n",
       "</style>\n",
       "<table border=\"1\" class=\"dataframe\">\n",
       "  <thead>\n",
       "    <tr style=\"text-align: right;\">\n",
       "      <th></th>\n",
       "      <th>step</th>\n",
       "      <th>type</th>\n",
       "      <th>amount</th>\n",
       "      <th>oldbalanceOrg</th>\n",
       "      <th>newbalanceOrig</th>\n",
       "      <th>oldbalanceDest</th>\n",
       "      <th>newbalanceDest</th>\n",
       "      <th>isFraud</th>\n",
       "      <th>isFlaggedFraud</th>\n",
       "    </tr>\n",
       "  </thead>\n",
       "  <tbody>\n",
       "    <tr>\n",
       "      <th>0</th>\n",
       "      <td>-0.710067</td>\n",
       "      <td>PAYMENT</td>\n",
       "      <td>9.195190</td>\n",
       "      <td>12.044412</td>\n",
       "      <td>11.984842</td>\n",
       "      <td>2.302585</td>\n",
       "      <td>9.195190</td>\n",
       "      <td>0</td>\n",
       "      <td>0</td>\n",
       "    </tr>\n",
       "    <tr>\n",
       "      <th>1</th>\n",
       "      <td>-0.710067</td>\n",
       "      <td>PAYMENT</td>\n",
       "      <td>7.535980</td>\n",
       "      <td>9.964536</td>\n",
       "      <td>9.872756</td>\n",
       "      <td>2.302585</td>\n",
       "      <td>7.535980</td>\n",
       "      <td>0</td>\n",
       "      <td>0</td>\n",
       "    </tr>\n",
       "    <tr>\n",
       "      <th>2</th>\n",
       "      <td>-0.710067</td>\n",
       "      <td>TRANSFER</td>\n",
       "      <td>5.252273</td>\n",
       "      <td>5.252273</td>\n",
       "      <td>2.302585</td>\n",
       "      <td>2.302585</td>\n",
       "      <td>2.302585</td>\n",
       "      <td>1</td>\n",
       "      <td>0</td>\n",
       "    </tr>\n",
       "    <tr>\n",
       "      <th>3</th>\n",
       "      <td>-0.710067</td>\n",
       "      <td>CASH_OUT</td>\n",
       "      <td>5.252273</td>\n",
       "      <td>5.252273</td>\n",
       "      <td>2.302585</td>\n",
       "      <td>9.961379</td>\n",
       "      <td>2.302585</td>\n",
       "      <td>1</td>\n",
       "      <td>0</td>\n",
       "    </tr>\n",
       "    <tr>\n",
       "      <th>4</th>\n",
       "      <td>-0.710067</td>\n",
       "      <td>PAYMENT</td>\n",
       "      <td>9.365474</td>\n",
       "      <td>10.634990</td>\n",
       "      <td>10.305475</td>\n",
       "      <td>10.112316</td>\n",
       "      <td>10.499926</td>\n",
       "      <td>0</td>\n",
       "      <td>0</td>\n",
       "    </tr>\n",
       "  </tbody>\n",
       "</table>\n",
       "</div>"
      ],
      "text/plain": [
       "       step      type    amount  oldbalanceOrg  newbalanceOrig  \\\n",
       "0 -0.710067   PAYMENT  9.195190      12.044412       11.984842   \n",
       "1 -0.710067   PAYMENT  7.535980       9.964536        9.872756   \n",
       "2 -0.710067  TRANSFER  5.252273       5.252273        2.302585   \n",
       "3 -0.710067  CASH_OUT  5.252273       5.252273        2.302585   \n",
       "4 -0.710067   PAYMENT  9.365474      10.634990       10.305475   \n",
       "\n",
       "   oldbalanceDest  newbalanceDest  isFraud  isFlaggedFraud  \n",
       "0        2.302585        9.195190        0               0  \n",
       "1        2.302585        7.535980        0               0  \n",
       "2        2.302585        2.302585        1               0  \n",
       "3        9.961379        2.302585        1               0  \n",
       "4       10.112316       10.499926        0               0  "
      ]
     },
     "execution_count": 20,
     "metadata": {},
     "output_type": "execute_result"
    }
   ],
   "source": [
    "data1.head()"
   ]
  },
  {
   "cell_type": "code",
   "execution_count": 13,
   "id": "07ad2a38",
   "metadata": {},
   "outputs": [],
   "source": [
    "# difference between initial balance before the transaction and new balance after the transaction\n",
    "data1['diff_new_old_balance'] = data1['oldbalanceOrg']-data1['newbalanceOrig'] \n",
    "\n",
    "# difference between initial balance recipient before the transaction and new balance recipient after the transaction.\n",
    "data1['diff_new_old_destiny'] = data1['newbalanceDest'] - data1['oldbalanceDest']\n",
    "\n"
   ]
  },
  {
   "cell_type": "code",
   "execution_count": 22,
   "id": "77e0cb8d",
   "metadata": {},
   "outputs": [
    {
     "data": {
      "text/plain": [
       "isFraud\n",
       "0    6354407\n",
       "1       8213\n",
       "Name: count, dtype: int64"
      ]
     },
     "execution_count": 22,
     "metadata": {},
     "output_type": "execute_result"
    }
   ],
   "source": [
    "data1.isFraud.value_counts()"
   ]
  },
  {
   "cell_type": "markdown",
   "id": "944b8cfa",
   "metadata": {},
   "source": [
    "#### The data is imbalaced, use SMOTE to deal with imbalace"
   ]
  },
  {
   "cell_type": "code",
   "execution_count": 14,
   "id": "1b84fde7",
   "metadata": {},
   "outputs": [],
   "source": [
    "from imblearn.over_sampling import SMOTE"
   ]
  },
  {
   "cell_type": "markdown",
   "id": "fff4bb03",
   "metadata": {},
   "source": [
    "### Convert String value into numerical value"
   ]
  },
  {
   "cell_type": "code",
   "execution_count": 15,
   "id": "4fc9e179",
   "metadata": {},
   "outputs": [],
   "source": [
    "X = data1\n",
    "Y = data1['isFraud']          # target label\n",
    "X = pd.concat([X, pd.get_dummies(X['type'])], axis = 'columns')       # one-hot columns for transaction type\n",
    "X = X.drop(['isFraud', 'type'], axis=1)\n"
   ]
  },
  {
   "cell_type": "code",
   "execution_count": 25,
   "id": "f9936c30",
   "metadata": {},
   "outputs": [
    {
     "data": {
      "text/html": [
       "<div>\n",
       "<style scoped>\n",
       "    .dataframe tbody tr th:only-of-type {\n",
       "        vertical-align: middle;\n",
       "    }\n",
       "\n",
       "    .dataframe tbody tr th {\n",
       "        vertical-align: top;\n",
       "    }\n",
       "\n",
       "    .dataframe thead th {\n",
       "        text-align: right;\n",
       "    }\n",
       "</style>\n",
       "<table border=\"1\" class=\"dataframe\">\n",
       "  <thead>\n",
       "    <tr style=\"text-align: right;\">\n",
       "      <th></th>\n",
       "      <th>step</th>\n",
       "      <th>amount</th>\n",
       "      <th>oldbalanceOrg</th>\n",
       "      <th>newbalanceOrig</th>\n",
       "      <th>oldbalanceDest</th>\n",
       "      <th>newbalanceDest</th>\n",
       "      <th>isFlaggedFraud</th>\n",
       "      <th>diff_new_old_balance</th>\n",
       "      <th>diff_new_old_destiny</th>\n",
       "      <th>CASH_IN</th>\n",
       "      <th>CASH_OUT</th>\n",
       "      <th>DEBIT</th>\n",
       "      <th>PAYMENT</th>\n",
       "      <th>TRANSFER</th>\n",
       "    </tr>\n",
       "  </thead>\n",
       "  <tbody>\n",
       "    <tr>\n",
       "      <th>0</th>\n",
       "      <td>-0.710067</td>\n",
       "      <td>9.195190</td>\n",
       "      <td>12.044412</td>\n",
       "      <td>11.984842</td>\n",
       "      <td>2.302585</td>\n",
       "      <td>9.195190</td>\n",
       "      <td>0</td>\n",
       "      <td>0.059570</td>\n",
       "      <td>6.892605</td>\n",
       "      <td>False</td>\n",
       "      <td>False</td>\n",
       "      <td>False</td>\n",
       "      <td>True</td>\n",
       "      <td>False</td>\n",
       "    </tr>\n",
       "    <tr>\n",
       "      <th>1</th>\n",
       "      <td>-0.710067</td>\n",
       "      <td>7.535980</td>\n",
       "      <td>9.964536</td>\n",
       "      <td>9.872756</td>\n",
       "      <td>2.302585</td>\n",
       "      <td>7.535980</td>\n",
       "      <td>0</td>\n",
       "      <td>0.091779</td>\n",
       "      <td>5.233395</td>\n",
       "      <td>False</td>\n",
       "      <td>False</td>\n",
       "      <td>False</td>\n",
       "      <td>True</td>\n",
       "      <td>False</td>\n",
       "    </tr>\n",
       "    <tr>\n",
       "      <th>2</th>\n",
       "      <td>-0.710067</td>\n",
       "      <td>5.252273</td>\n",
       "      <td>5.252273</td>\n",
       "      <td>2.302585</td>\n",
       "      <td>2.302585</td>\n",
       "      <td>2.302585</td>\n",
       "      <td>0</td>\n",
       "      <td>2.949688</td>\n",
       "      <td>0.000000</td>\n",
       "      <td>False</td>\n",
       "      <td>False</td>\n",
       "      <td>False</td>\n",
       "      <td>False</td>\n",
       "      <td>True</td>\n",
       "    </tr>\n",
       "    <tr>\n",
       "      <th>3</th>\n",
       "      <td>-0.710067</td>\n",
       "      <td>5.252273</td>\n",
       "      <td>5.252273</td>\n",
       "      <td>2.302585</td>\n",
       "      <td>9.961379</td>\n",
       "      <td>2.302585</td>\n",
       "      <td>0</td>\n",
       "      <td>2.949688</td>\n",
       "      <td>-7.658794</td>\n",
       "      <td>False</td>\n",
       "      <td>True</td>\n",
       "      <td>False</td>\n",
       "      <td>False</td>\n",
       "      <td>False</td>\n",
       "    </tr>\n",
       "    <tr>\n",
       "      <th>4</th>\n",
       "      <td>-0.710067</td>\n",
       "      <td>9.365474</td>\n",
       "      <td>10.634990</td>\n",
       "      <td>10.305475</td>\n",
       "      <td>10.112316</td>\n",
       "      <td>10.499926</td>\n",
       "      <td>0</td>\n",
       "      <td>0.329514</td>\n",
       "      <td>0.387610</td>\n",
       "      <td>False</td>\n",
       "      <td>False</td>\n",
       "      <td>False</td>\n",
       "      <td>True</td>\n",
       "      <td>False</td>\n",
       "    </tr>\n",
       "  </tbody>\n",
       "</table>\n",
       "</div>"
      ],
      "text/plain": [
       "       step    amount  oldbalanceOrg  newbalanceOrig  oldbalanceDest  \\\n",
       "0 -0.710067  9.195190      12.044412       11.984842        2.302585   \n",
       "1 -0.710067  7.535980       9.964536        9.872756        2.302585   \n",
       "2 -0.710067  5.252273       5.252273        2.302585        2.302585   \n",
       "3 -0.710067  5.252273       5.252273        2.302585        9.961379   \n",
       "4 -0.710067  9.365474      10.634990       10.305475       10.112316   \n",
       "\n",
       "   newbalanceDest  isFlaggedFraud  diff_new_old_balance  diff_new_old_destiny  \\\n",
       "0        9.195190               0              0.059570              6.892605   \n",
       "1        7.535980               0              0.091779              5.233395   \n",
       "2        2.302585               0              2.949688              0.000000   \n",
       "3        2.302585               0              2.949688             -7.658794   \n",
       "4       10.499926               0              0.329514              0.387610   \n",
       "\n",
       "   CASH_IN  CASH_OUT  DEBIT  PAYMENT  TRANSFER  \n",
       "0    False     False  False     True     False  \n",
       "1    False     False  False     True     False  \n",
       "2    False     False  False    False      True  \n",
       "3    False      True  False    False     False  \n",
       "4    False     False  False     True     False  "
      ]
     },
     "execution_count": 25,
     "metadata": {},
     "output_type": "execute_result"
    }
   ],
   "source": [
    "X.head()"
   ]
  },
  {
   "cell_type": "code",
   "execution_count": 26,
   "id": "3736b74e",
   "metadata": {},
   "outputs": [
    {
     "data": {
      "text/plain": [
       "6362620"
      ]
     },
     "execution_count": 26,
     "metadata": {},
     "output_type": "execute_result"
    }
   ],
   "source": [
    "len(X)"
   ]
  },
  {
   "cell_type": "markdown",
   "id": "6ebb4457",
   "metadata": {},
   "source": [
    "SMOTE resampling"
   ]
  },
  {
   "cell_type": "code",
   "execution_count": 16,
   "id": "b9183cdb",
   "metadata": {},
   "outputs": [],
   "source": [
    "X, Y = SMOTE().fit_resample(X, Y)"
   ]
  },
  {
   "cell_type": "code",
   "execution_count": 28,
   "id": "37a9d4d0",
   "metadata": {},
   "outputs": [
    {
     "data": {
      "text/plain": [
       "12708814"
      ]
     },
     "execution_count": 28,
     "metadata": {},
     "output_type": "execute_result"
    }
   ],
   "source": [
    "len(X)"
   ]
  },
  {
   "cell_type": "markdown",
   "id": "eb505cb9",
   "metadata": {},
   "source": [
    "With smote resampling, now our dataset size has almost doubled and has balanced classes."
   ]
  },
  {
   "cell_type": "markdown",
   "id": "6a009939",
   "metadata": {},
   "source": [
    "# Training"
   ]
  },
  {
   "cell_type": "markdown",
   "id": "6b096d0e",
   "metadata": {},
   "source": [
    "### Train, validation and test Split"
   ]
  },
  {
   "cell_type": "markdown",
   "id": "37019640",
   "metadata": {},
   "source": [
    "Train: 80%, validation:10%, test:10%"
   ]
  },
  {
   "cell_type": "code",
   "execution_count": 17,
   "id": "d8db244b",
   "metadata": {},
   "outputs": [],
   "source": [
    "x_train, x_test, y_train, y_test = train_test_split(X, Y, test_size = 0.2, random_state = 55)\n",
    "x_val, x_test, y_val, y_test = train_test_split(x_test, y_test, test_size = 0.5, random_state = 55)"
   ]
  },
  {
   "cell_type": "markdown",
   "id": "d46f017e",
   "metadata": {},
   "source": [
    "# Machine Learning modeling"
   ]
  },
  {
   "cell_type": "markdown",
   "id": "47ed1ead",
   "metadata": {},
   "source": [
    "Before training, let's free up some RAM space."
   ]
  },
  {
   "cell_type": "code",
   "execution_count": 18,
   "id": "ea559172",
   "metadata": {},
   "outputs": [],
   "source": [
    "import gc"
   ]
  },
  {
   "cell_type": "code",
   "execution_count": 19,
   "id": "7a82578e",
   "metadata": {},
   "outputs": [],
   "source": [
    "\n",
    "del  X, Y, cols"
   ]
  },
  {
   "cell_type": "code",
   "execution_count": 20,
   "id": "b3be61ae",
   "metadata": {},
   "outputs": [
    {
     "data": {
      "text/plain": [
       "0"
      ]
     },
     "execution_count": 20,
     "metadata": {},
     "output_type": "execute_result"
    }
   ],
   "source": [
    "gc.collect()"
   ]
  },
  {
   "cell_type": "markdown",
   "id": "b87b54c5",
   "metadata": {},
   "source": [
    "### Logistic regression"
   ]
  },
  {
   "cell_type": "code",
   "execution_count": 21,
   "id": "9bd2ffda",
   "metadata": {},
   "outputs": [
    {
     "name": "stderr",
     "output_type": "stream",
     "text": [
      "C:\\Users\\LENOVO\\anaconda3\\Lib\\site-packages\\sklearn\\linear_model\\_logistic.py:460: ConvergenceWarning: lbfgs failed to converge (status=1):\n",
      "STOP: TOTAL NO. of ITERATIONS REACHED LIMIT.\n",
      "\n",
      "Increase the number of iterations (max_iter) or scale the data as shown in:\n",
      "    https://scikit-learn.org/stable/modules/preprocessing.html\n",
      "Please also refer to the documentation for alternative solver options:\n",
      "    https://scikit-learn.org/stable/modules/linear_model.html#logistic-regression\n",
      "  n_iter_i = _check_optimize_result(\n"
     ]
    }
   ],
   "source": [
    "lg = LogisticRegression()\n",
    "lg.fit(x_train, y_train)\n",
    "\n",
    "y_pred = lg.predict(x_val)"
   ]
  },
  {
   "cell_type": "code",
   "execution_count": 22,
   "id": "43378638",
   "metadata": {},
   "outputs": [
    {
     "data": {
      "text/html": [
       "<div>\n",
       "<style scoped>\n",
       "    .dataframe tbody tr th:only-of-type {\n",
       "        vertical-align: middle;\n",
       "    }\n",
       "\n",
       "    .dataframe tbody tr th {\n",
       "        vertical-align: top;\n",
       "    }\n",
       "\n",
       "    .dataframe thead th {\n",
       "        text-align: right;\n",
       "    }\n",
       "</style>\n",
       "<table border=\"1\" class=\"dataframe\">\n",
       "  <thead>\n",
       "    <tr style=\"text-align: right;\">\n",
       "      <th></th>\n",
       "      <th>Balanced Accuracy</th>\n",
       "      <th>Precision</th>\n",
       "      <th>Recall</th>\n",
       "      <th>F1</th>\n",
       "      <th>Kappa</th>\n",
       "    </tr>\n",
       "  </thead>\n",
       "  <tbody>\n",
       "    <tr>\n",
       "      <th>Logistic Regression</th>\n",
       "      <td>0.973</td>\n",
       "      <td>0.961</td>\n",
       "      <td>0.986</td>\n",
       "      <td>0.973</td>\n",
       "      <td>0.945</td>\n",
       "    </tr>\n",
       "  </tbody>\n",
       "</table>\n",
       "</div>"
      ],
      "text/plain": [
       "                     Balanced Accuracy  Precision  Recall     F1  Kappa\n",
       "Logistic Regression              0.973      0.961   0.986  0.973  0.945"
      ]
     },
     "execution_count": 22,
     "metadata": {},
     "output_type": "execute_result"
    }
   ],
   "source": [
    "lg_results = ml_scores('Logistic Regression', y_val, y_pred)\n",
    "lg_results"
   ]
  },
  {
   "cell_type": "markdown",
   "id": "8f79bff9",
   "metadata": {},
   "source": [
    "### Classification Report"
   ]
  },
  {
   "cell_type": "code",
   "execution_count": 23,
   "id": "8fc8f09a",
   "metadata": {},
   "outputs": [
    {
     "name": "stdout",
     "output_type": "stream",
     "text": [
      "              precision    recall  f1-score   support\n",
      "\n",
      "           0       0.99      0.96      0.97    636101\n",
      "           1       0.96      0.99      0.97    634780\n",
      "\n",
      "    accuracy                           0.97   1270881\n",
      "   macro avg       0.97      0.97      0.97   1270881\n",
      "weighted avg       0.97      0.97      0.97   1270881\n",
      "\n"
     ]
    }
   ],
   "source": [
    "print(classification_report(y_val, y_pred))"
   ]
  },
  {
   "cell_type": "markdown",
   "id": "08a7905a",
   "metadata": {},
   "source": [
    "### KNN"
   ]
  },
  {
   "cell_type": "code",
   "execution_count": 24,
   "id": "a7e88551",
   "metadata": {},
   "outputs": [],
   "source": [
    "knn = KNeighborsClassifier()\n",
    "knn.fit(x_train, y_train)\n",
    "\n",
    "y_pred = knn.predict(x_val)"
   ]
  },
  {
   "cell_type": "code",
   "execution_count": 25,
   "id": "91ed3b7f",
   "metadata": {},
   "outputs": [
    {
     "data": {
      "text/html": [
       "<div>\n",
       "<style scoped>\n",
       "    .dataframe tbody tr th:only-of-type {\n",
       "        vertical-align: middle;\n",
       "    }\n",
       "\n",
       "    .dataframe tbody tr th {\n",
       "        vertical-align: top;\n",
       "    }\n",
       "\n",
       "    .dataframe thead th {\n",
       "        text-align: right;\n",
       "    }\n",
       "</style>\n",
       "<table border=\"1\" class=\"dataframe\">\n",
       "  <thead>\n",
       "    <tr style=\"text-align: right;\">\n",
       "      <th></th>\n",
       "      <th>Balanced Accuracy</th>\n",
       "      <th>Precision</th>\n",
       "      <th>Recall</th>\n",
       "      <th>F1</th>\n",
       "      <th>Kappa</th>\n",
       "    </tr>\n",
       "  </thead>\n",
       "  <tbody>\n",
       "    <tr>\n",
       "      <th>K Nearest Neighbors</th>\n",
       "      <td>0.999</td>\n",
       "      <td>0.998</td>\n",
       "      <td>1.0</td>\n",
       "      <td>0.999</td>\n",
       "      <td>0.998</td>\n",
       "    </tr>\n",
       "  </tbody>\n",
       "</table>\n",
       "</div>"
      ],
      "text/plain": [
       "                     Balanced Accuracy  Precision  Recall     F1  Kappa\n",
       "K Nearest Neighbors              0.999      0.998     1.0  0.999  0.998"
      ]
     },
     "execution_count": 25,
     "metadata": {},
     "output_type": "execute_result"
    }
   ],
   "source": [
    "knn_results = ml_scores('K Nearest Neighbors', y_val, y_pred)\n",
    "knn_results"
   ]
  },
  {
   "cell_type": "markdown",
   "id": "6ab431d5",
   "metadata": {},
   "source": [
    "### Classification Report"
   ]
  },
  {
   "cell_type": "code",
   "execution_count": 26,
   "id": "9dc92b41",
   "metadata": {},
   "outputs": [
    {
     "name": "stdout",
     "output_type": "stream",
     "text": [
      "              precision    recall  f1-score   support\n",
      "\n",
      "           0       1.00      1.00      1.00    636101\n",
      "           1       1.00      1.00      1.00    634780\n",
      "\n",
      "    accuracy                           1.00   1270881\n",
      "   macro avg       1.00      1.00      1.00   1270881\n",
      "weighted avg       1.00      1.00      1.00   1270881\n",
      "\n"
     ]
    }
   ],
   "source": [
    "print(classification_report(y_val, y_pred))"
   ]
  },
  {
   "cell_type": "markdown",
   "id": "e3cea9d8",
   "metadata": {},
   "source": [
    "### XGBoost"
   ]
  },
  {
   "cell_type": "code",
   "execution_count": 21,
   "id": "fe61555f",
   "metadata": {},
   "outputs": [],
   "source": [
    "xgb = XGBClassifier()\n",
    "xgb.fit(x_train, y_train)\n",
    "\n",
    "y_pred = xgb.predict(x_val)"
   ]
  },
  {
   "cell_type": "code",
   "execution_count": 28,
   "id": "a0294196",
   "metadata": {},
   "outputs": [
    {
     "data": {
      "text/html": [
       "<div>\n",
       "<style scoped>\n",
       "    .dataframe tbody tr th:only-of-type {\n",
       "        vertical-align: middle;\n",
       "    }\n",
       "\n",
       "    .dataframe tbody tr th {\n",
       "        vertical-align: top;\n",
       "    }\n",
       "\n",
       "    .dataframe thead th {\n",
       "        text-align: right;\n",
       "    }\n",
       "</style>\n",
       "<table border=\"1\" class=\"dataframe\">\n",
       "  <thead>\n",
       "    <tr style=\"text-align: right;\">\n",
       "      <th></th>\n",
       "      <th>Balanced Accuracy</th>\n",
       "      <th>Precision</th>\n",
       "      <th>Recall</th>\n",
       "      <th>F1</th>\n",
       "      <th>Kappa</th>\n",
       "    </tr>\n",
       "  </thead>\n",
       "  <tbody>\n",
       "    <tr>\n",
       "      <th>XGBoost</th>\n",
       "      <td>0.999</td>\n",
       "      <td>0.999</td>\n",
       "      <td>0.999</td>\n",
       "      <td>0.999</td>\n",
       "      <td>0.998</td>\n",
       "    </tr>\n",
       "  </tbody>\n",
       "</table>\n",
       "</div>"
      ],
      "text/plain": [
       "         Balanced Accuracy  Precision  Recall     F1  Kappa\n",
       "XGBoost              0.999      0.999   0.999  0.999  0.998"
      ]
     },
     "execution_count": 28,
     "metadata": {},
     "output_type": "execute_result"
    }
   ],
   "source": [
    "xgb_results = ml_scores('XGBoost', y_val, y_pred)\n",
    "xgb_results"
   ]
  },
  {
   "cell_type": "markdown",
   "id": "8800e5c1",
   "metadata": {},
   "source": [
    "### Classification Report"
   ]
  },
  {
   "cell_type": "code",
   "execution_count": 29,
   "id": "3e1fce9a",
   "metadata": {},
   "outputs": [
    {
     "name": "stdout",
     "output_type": "stream",
     "text": [
      "              precision    recall  f1-score   support\n",
      "\n",
      "           0       1.00      1.00      1.00    636101\n",
      "           1       1.00      1.00      1.00    634780\n",
      "\n",
      "    accuracy                           1.00   1270881\n",
      "   macro avg       1.00      1.00      1.00   1270881\n",
      "weighted avg       1.00      1.00      1.00   1270881\n",
      "\n"
     ]
    }
   ],
   "source": [
    "print(classification_report(y_val, y_pred))"
   ]
  },
  {
   "cell_type": "markdown",
   "id": "f1c81eb3",
   "metadata": {},
   "source": [
    "## Comparing Model performance"
   ]
  },
  {
   "cell_type": "code",
   "execution_count": 30,
   "id": "fc29333c",
   "metadata": {},
   "outputs": [
    {
     "data": {
      "text/html": [
       "<div>\n",
       "<style scoped>\n",
       "    .dataframe tbody tr th:only-of-type {\n",
       "        vertical-align: middle;\n",
       "    }\n",
       "\n",
       "    .dataframe tbody tr th {\n",
       "        vertical-align: top;\n",
       "    }\n",
       "\n",
       "    .dataframe thead th {\n",
       "        text-align: right;\n",
       "    }\n",
       "</style>\n",
       "<table border=\"1\" class=\"dataframe\">\n",
       "  <thead>\n",
       "    <tr style=\"text-align: right;\">\n",
       "      <th></th>\n",
       "      <th>Balanced Accuracy</th>\n",
       "      <th>Precision</th>\n",
       "      <th>Recall</th>\n",
       "      <th>F1</th>\n",
       "      <th>Kappa</th>\n",
       "    </tr>\n",
       "  </thead>\n",
       "  <tbody>\n",
       "    <tr>\n",
       "      <th>Logistic Regression</th>\n",
       "      <td>0.973</td>\n",
       "      <td>0.961</td>\n",
       "      <td>0.986</td>\n",
       "      <td>0.973</td>\n",
       "      <td>0.945</td>\n",
       "    </tr>\n",
       "    <tr>\n",
       "      <th>K Nearest Neighbors</th>\n",
       "      <td>0.999</td>\n",
       "      <td>0.998</td>\n",
       "      <td>1.000</td>\n",
       "      <td>0.999</td>\n",
       "      <td>0.998</td>\n",
       "    </tr>\n",
       "    <tr>\n",
       "      <th>XGBoost</th>\n",
       "      <td>0.999</td>\n",
       "      <td>0.999</td>\n",
       "      <td>0.999</td>\n",
       "      <td>0.999</td>\n",
       "      <td>0.998</td>\n",
       "    </tr>\n",
       "  </tbody>\n",
       "</table>\n",
       "</div>"
      ],
      "text/plain": [
       "                     Balanced Accuracy  Precision  Recall     F1  Kappa\n",
       "Logistic Regression              0.973      0.961   0.986  0.973  0.945\n",
       "K Nearest Neighbors              0.999      0.998   1.000  0.999  0.998\n",
       "XGBoost                          0.999      0.999   0.999  0.999  0.998"
      ]
     },
     "execution_count": 30,
     "metadata": {},
     "output_type": "execute_result"
    }
   ],
   "source": [
    "modeling_performance = pd.concat([lg_results, knn_results, \n",
    "                                   xgb_results])\n",
    "modeling_performance.sort_values(by=\"F1\", ascending=True)"
   ]
  },
  {
   "cell_type": "markdown",
   "id": "f65ee267",
   "metadata": {},
   "source": [
    "## Final model"
   ]
  },
  {
   "cell_type": "code",
   "execution_count": 22,
   "id": "8d677493",
   "metadata": {},
   "outputs": [],
   "source": [
    "final_model=xgb"
   ]
  },
  {
   "cell_type": "markdown",
   "id": "e2ac5330",
   "metadata": {},
   "source": [
    "## Evaluation"
   ]
  },
  {
   "cell_type": "code",
   "execution_count": 25,
   "id": "424f72f5",
   "metadata": {},
   "outputs": [],
   "source": [
    "from sklearn.metrics import roc_auc_score, accuracy_score\n",
    "\n",
    "def evaluate(trainedmodel, x, y):\n",
    "  '''\n",
    "    To evaluate model performance\n",
    "  '''\n",
    "  y_pred   = trainedmodel.predict(x)\n",
    "  f1       = f1_score(y, y_pred)\n",
    "  report   = classification_report(y, y_pred)\n",
    "  acc      = accuracy_score(y, y_pred)\n",
    "  roc_auc  = roc_auc_score(y, y_pred)\n",
    "\n",
    "  eval = {'y_pred': y_pred, \n",
    "          'f1_score': f1,\n",
    "          'accuracy':acc,\n",
    "          'roc_auc_score': roc_auc\n",
    "          }\n",
    "\n",
    "  return eval, report"
   ]
  },
  {
   "cell_type": "code",
   "execution_count": 27,
   "id": "557e7c4d",
   "metadata": {},
   "outputs": [],
   "source": [
    "import pprint\n",
    "pprint._sorted = lambda x:x"
   ]
  },
  {
   "cell_type": "code",
   "execution_count": 26,
   "id": "0c702a5e",
   "metadata": {},
   "outputs": [],
   "source": [
    "eval_test, report_test = evaluate(final_model, x_test, y_test)"
   ]
  },
  {
   "cell_type": "code",
   "execution_count": 28,
   "id": "c45cafc6",
   "metadata": {},
   "outputs": [
    {
     "name": "stdout",
     "output_type": "stream",
     "text": [
      "Evaluation metrics on test data (for df): \n",
      "\n",
      "{'accuracy': 0.998890534290359,\n",
      " 'f1_score': 0.998889910625996,\n",
      " 'roc_auc_score': 0.9988909703706893,\n",
      " 'y_pred': array([0, 0, 0, ..., 0, 0, 0])}\n",
      "\n",
      "               precision    recall  f1-score   support\n",
      "\n",
      "           0       1.00      1.00      1.00    636076\n",
      "           1       1.00      1.00      1.00    634806\n",
      "\n",
      "    accuracy                           1.00   1270882\n",
      "   macro avg       1.00      1.00      1.00   1270882\n",
      "weighted avg       1.00      1.00      1.00   1270882\n",
      "\n"
     ]
    }
   ],
   "source": [
    "print('Evaluation metrics on test data (for df): \\n')\n",
    "pprint.pprint(eval_test)\n",
    "print('\\n', report_test)"
   ]
  },
  {
   "cell_type": "markdown",
   "id": "08eb8566",
   "metadata": {},
   "source": [
    "## Feature importance"
   ]
  },
  {
   "cell_type": "code",
   "execution_count": 29,
   "id": "99980e75",
   "metadata": {},
   "outputs": [],
   "source": [
    "from xgboost import plot_importance"
   ]
  },
  {
   "cell_type": "code",
   "execution_count": 31,
   "id": "6f84956d",
   "metadata": {},
   "outputs": [
    {
     "data": {
      "image/png": "[encoded data removed]",
      "text/plain": [
       "<Figure size 1600x500 with 3 Axes>"
      ]
     },
     "metadata": {},
     "output_type": "display_data"
    }
   ],
   "source": [
    "fig, ax = plt.subplots(1, 3, figsize=(16,5))\n",
    "\n",
    "plot_importance(booster=final_model, importance_type='weight', title='Weight', show_values=False, height=0.5, ax = ax[0])\n",
    "\n",
    "# plot importances with split mean gain\n",
    "plot_importance(booster=final_model, importance_type='gain', title='Gain', show_values=False, height=0.5, ax = ax[1])\n",
    "\n",
    "# plot importances with sample coverage\n",
    "plot_importance( booster=final_model, importance_type='cover', title='Coverage', show_values=False, height=0.5, ax = ax[2])\n",
    "\n",
    "plt.tight_layout()\n",
    "plt.show()"
   ]
  },
  {
   "cell_type": "markdown",
   "id": "f16a15db",
   "metadata": {},
   "source": [
    "# Inference"
   ]
  },
  {
   "cell_type": "markdown",
   "id": "0ca2c1f7",
   "metadata": {},
   "source": [
    "* Both transfer and cashout contribute almost equally towards fraud.  \n",
    "* oldbalance, newbalance and amount are interdependent variables.  \n",
    "* diff_new_old_balace has the most gain, i.e. diff_new_old_balace contributed most towards model prediction.  \n",
    "*  The most important features are diff_new_old_balace, oldbalanceOrg, amount and newbalanceDest.  \n"
   ]
  },
  {
   "cell_type": "markdown",
   "id": "ee4ebbee",
   "metadata": {},
   "source": [
    "# Fraud prevention"
   ]
  },
  {
   "cell_type": "markdown",
   "id": "3aadf271",
   "metadata": {},
   "source": [
    "* When updating the infrastructure for preventing fraud transactions, the company should lookout for anomalies in diff_new_old_balace.  \n",
    "* A different criteria for flagging fraudulent transactions may also be useful.  \n",
    "  \n",
    "After updating the infrastructure, we can retrain the model using new data and compare the model performances to determine whether the updates will be successful towards proactive fraud detection.\n"
   ]
  },
  {
   "cell_type": "code",
   "execution_count": null,
   "id": "de0c2c7e",
   "metadata": {},
   "outputs": [],
   "source": []
  }
 ],
 "metadata": {
  "kernelspec": {
   "display_name": "Python 3 (ipykernel)",
   "language": "python",
   "name": "python3"
  },
  "language_info": {
   "codemirror_mode": {
    "name": "ipython",
    "version": 3
   },
   "file_extension": ".py",
   "mimetype": "text/x-python",
   "name": "python",
   "nbconvert_exporter": "python",
   "pygments_lexer": "ipython3",
   "version": "3.11.5"
  }
 },
 "nbformat": 4,
 "nbformat_minor": 5
}
